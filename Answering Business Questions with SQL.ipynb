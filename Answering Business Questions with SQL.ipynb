{
 "cells": [
  {
   "cell_type": "markdown",
   "metadata": {},
   "source": [
    "# Analyzing sales and performance data\n",
    "\n",
    "With this project we are going to analyze data from chinook database, primarily using SQL for the analysis and using different strategies to simulate real-life scenarios. A schema of the data was procured for the project\n",
    "\n",
    "![image.png](Images/Chinook_Database_Schema.png)"
   ]
  },
  {
   "cell_type": "code",
   "execution_count": 1,
   "metadata": {},
   "outputs": [],
   "source": [
    "%%capture\n",
    "%load_ext sql\n",
    "%sql sqlite:///chinook-unmodified.db"
   ]
  },
  {
   "cell_type": "code",
   "execution_count": 2,
   "metadata": {},
   "outputs": [],
   "source": [
    "import pandas as pd\n",
    "import matplotlib.pyplot as plt\n",
    "import matplotlib as mlp\n",
    "from matplotlib import cm\n",
    "from matplotlib.colors import ListedColormap\n",
    "import numpy as np\n",
    "import sqlite3\n",
    "import seaborn as sns\n",
    "from numpy import arange"
   ]
  },
  {
   "cell_type": "code",
   "execution_count": 3,
   "metadata": {},
   "outputs": [
    {
     "name": "stdout",
     "output_type": "stream",
     "text": [
      " * sqlite:///chinook-unmodified.db\n",
      "Done.\n"
     ]
    },
    {
     "data": {
      "text/html": [
       "<table>\n",
       "    <tr>\n",
       "        <th>name</th>\n",
       "        <th>type</th>\n",
       "    </tr>\n",
       "    <tr>\n",
       "        <td>album</td>\n",
       "        <td>table</td>\n",
       "    </tr>\n",
       "    <tr>\n",
       "        <td>artist</td>\n",
       "        <td>table</td>\n",
       "    </tr>\n",
       "    <tr>\n",
       "        <td>customer</td>\n",
       "        <td>table</td>\n",
       "    </tr>\n",
       "    <tr>\n",
       "        <td>employee</td>\n",
       "        <td>table</td>\n",
       "    </tr>\n",
       "    <tr>\n",
       "        <td>genre</td>\n",
       "        <td>table</td>\n",
       "    </tr>\n",
       "    <tr>\n",
       "        <td>invoice</td>\n",
       "        <td>table</td>\n",
       "    </tr>\n",
       "    <tr>\n",
       "        <td>invoice_line</td>\n",
       "        <td>table</td>\n",
       "    </tr>\n",
       "    <tr>\n",
       "        <td>media_type</td>\n",
       "        <td>table</td>\n",
       "    </tr>\n",
       "    <tr>\n",
       "        <td>playlist</td>\n",
       "        <td>table</td>\n",
       "    </tr>\n",
       "    <tr>\n",
       "        <td>playlist_track</td>\n",
       "        <td>table</td>\n",
       "    </tr>\n",
       "    <tr>\n",
       "        <td>track</td>\n",
       "        <td>table</td>\n",
       "    </tr>\n",
       "</table>"
      ],
      "text/plain": [
       "[('album', 'table'),\n",
       " ('artist', 'table'),\n",
       " ('customer', 'table'),\n",
       " ('employee', 'table'),\n",
       " ('genre', 'table'),\n",
       " ('invoice', 'table'),\n",
       " ('invoice_line', 'table'),\n",
       " ('media_type', 'table'),\n",
       " ('playlist', 'table'),\n",
       " ('playlist_track', 'table'),\n",
       " ('track', 'table')]"
      ]
     },
     "execution_count": 3,
     "metadata": {},
     "output_type": "execute_result"
    }
   ],
   "source": [
    "%%sql\n",
    "SELECT\n",
    "    name,\n",
    "    type\n",
    "FROM sqlite_master\n",
    "WHERE type IN (\"table\",\"view\");"
   ]
  },
  {
   "cell_type": "markdown",
   "metadata": {},
   "source": [
    "## Which albums should be purchased\n",
    "\n",
    "The Chinook record store has just signed a deal with a new record label, and we've been tasked with selecting the first three albums that will be added to the store, from a list of four. All four albums are by artists that don't have any tracks in the store right now - we have the artist names, and the genre of music they produce:\n",
    "\n",
    "| Artist Name          | Genre   |\n",
    "|----------------------|---------|\n",
    "| Regal                | Hip-Hop |\n",
    "| Red Tone             | Punk    |\n",
    "| Meteor and the Girls | Pop     |\n",
    "| Slim Jim Bites       | Blues   |\n",
    "\n",
    "The record label specializes in artists from the USA, and they have given Chinook some money to advertise the new albums in the USA, so we're interested in finding out which genres sell the best in the USA.\n",
    "\n",
    "To do this, we willl retrieve information about which genres sell best in the United States, both in absolute numbers and in percentages. That way we can determine which artists would be better to launch"
   ]
  },
  {
   "cell_type": "code",
   "execution_count": 14,
   "metadata": {},
   "outputs": [
    {
     "data": {
      "image/png": "[encoded data removed]",
      "text/plain": [
       "<Figure size 1440x720 with 1 Axes>"
      ]
     },
     "metadata": {
      "needs_background": "light"
     },
     "output_type": "display_data"
    }
   ],
   "source": [
    "%matplotlib inline\n",
    "conn = sqlite3.connect(\"chinook-unmodified.db\")\n",
    "query = '''\n",
    "WITH usa_tracks_sold AS\n",
    "   (\n",
    "    SELECT il.* FROM invoice_line il\n",
    "    INNER JOIN invoice i on il.invoice_id = i.invoice_id\n",
    "    INNER JOIN customer c on i.customer_id = c.customer_id\n",
    "    WHERE c.country = \"USA\"\n",
    "   )\n",
    "SELECT\n",
    "    g.name genre,\n",
    "    count(uts.invoice_line_id) tracks_sold,\n",
    "    cast(count(uts.invoice_line_id) AS FLOAT) / (\n",
    "        SELECT COUNT(*) from usa_tracks_sold\n",
    "    ) percentage_sold\n",
    "FROM usa_tracks_sold uts\n",
    "INNER JOIN track t on t.track_id = uts.track_id\n",
    "INNER JOIN genre g on g.genre_id = t.genre_id\n",
    "GROUP BY 1\n",
    "ORDER BY 2 DESC\n",
    "'''\n",
    "data = pd.read_sql_query(query, conn)\n",
    "tick_positions = range(1, len(data['genre']))\n",
    "fig = plt.figure(figsize=(20,10))\n",
    "ax = fig.add_subplot(1, 1, 1)\n",
    "sns.barplot(x = data['genre'][0:10], y = data['tracks_sold'][0:10], palette = 'Blues', ax = ax)\n",
    "sns.despine()\n",
    "plt.title('Tracks sold by genre in the United States')\n",
    "ax.set_xlabel('Genre')\n",
    "ax.set_ylabel('Tracks Sold')\n",
    "plt.xticks(np.arange(len(data['genre'][0:10])), data['genre'], rotation = 90)\n",
    "plt.show()"
   ]
  },
  {
   "cell_type": "markdown",
   "metadata": {},
   "source": [
    "Based on these results we would recommend the following genres for the purchase of albums: Punk, Blues and Pop as these among the options provided are the ones that sold the best on the United States. Given these genres, the albums recommended for purchase are:\n",
    "\n",
    "- Red Tone \t(Punk)\n",
    "- Meteor and the Girls \t(Pop)\n",
    "- Slim Jim Bites \t(Blues)"
   ]
  },
  {
   "cell_type": "code",
   "execution_count": 5,
   "metadata": {},
   "outputs": [
    {
     "name": "stderr",
     "output_type": "stream",
     "text": [
      "C:\\Users\\danif\\Anaconda3\\lib\\site-packages\\ipykernel_launcher.py:6: SettingWithCopyWarning: \n",
      "A value is trying to be set on a copy of a slice from a DataFrame\n",
      "\n",
      "See the caveats in the documentation: https://pandas.pydata.org/pandas-docs/stable/user_guide/indexing.html#returning-a-view-versus-a-copy\n",
      "  \n"
     ]
    },
    {
     "data": {
      "image/png": "[encoded data removed]",
      "text/plain": [
       "<Figure size 1440x720 with 1 Axes>"
      ]
     },
     "metadata": {},
     "output_type": "display_data"
    }
   ],
   "source": [
    "%matplotlib inline\n",
    "def reclassification(row):\n",
    "    if row < 0.015:\n",
    "        return 'Other' \n",
    "\n",
    "data['genre'][9:] = data['percentage_sold'][9:].apply(reclassification)\n",
    "color = cm.get_cmap('Blues', len(data['genre']))\n",
    "new_color = color(np.linspace(0,1,len(data['genre'])))\n",
    "sum_other = data.loc[data['genre'] == 'Other', 'percentage_sold'].sum(axis = 0)\n",
    "data.loc[data['genre'] == 'Other', 'percentage_sold'] = sum_other\n",
    "data.loc[data['genre'] == 'Other', 'tracks_sold'] = data.loc[data['genre'] == 'Other', 'tracks_sold'].sum(axis = 0)\n",
    "data.drop_duplicates(['genre', 'tracks_sold', 'percentage_sold'], inplace = True, keep = 'first')\n",
    "\n",
    "\n",
    "\n",
    "fig = plt.figure(figsize=(20,10))\n",
    "ax = fig.add_subplot(1, 1, 1)\n",
    "explode = (0, 0.3, 0, 0, 0.3, 0, 0, 0, 0.3, 0)\n",
    "ax.pie(data['percentage_sold'], explode = explode, \n",
    "       autopct = '%1.1f%%', labels = data['genre'], startangle = 90, colors = new_color)\n",
    "mlp.style.use('default')\n",
    "plt.show()"
   ]
  },
  {
   "cell_type": "markdown",
   "metadata": {},
   "source": [
    "It is worth noting however, that these genres only make up ~17% of sales combined and that other genres such as Rock would be a better choice if at all possible.\n",
    "\n",
    "## Sales support agent's performance\n",
    "\n",
    "Each customer for the Chinook store gets assigned to a sales support agent within the company when they first make a purchase.  Now we are going to evaluate the performance of each employee to see how much they have sold and how they compare with their peers"
   ]
  },
  {
   "cell_type": "code",
   "execution_count": 6,
   "metadata": {},
   "outputs": [
    {
     "name": "stdout",
     "output_type": "stream",
     "text": [
      " * sqlite:///chinook-unmodified.db\n",
      "Done.\n"
     ]
    },
    {
     "data": {
      "text/html": [
       "<table>\n",
       "    <tr>\n",
       "        <th>employee_id</th>\n",
       "        <th>employee_name</th>\n",
       "        <th>hired</th>\n",
       "        <th>country</th>\n",
       "        <th>total_purchases</th>\n",
       "    </tr>\n",
       "    <tr>\n",
       "        <td>3</td>\n",
       "        <td>Jane Peacock</td>\n",
       "        <td>2017-04-01 00:00:00</td>\n",
       "        <td>Canada</td>\n",
       "        <td>1731.5099999999998</td>\n",
       "    </tr>\n",
       "    <tr>\n",
       "        <td>4</td>\n",
       "        <td>Margaret Park</td>\n",
       "        <td>2017-05-03 00:00:00</td>\n",
       "        <td>Canada</td>\n",
       "        <td>1584.0000000000002</td>\n",
       "    </tr>\n",
       "    <tr>\n",
       "        <td>5</td>\n",
       "        <td>Steve Johnson</td>\n",
       "        <td>2017-10-17 00:00:00</td>\n",
       "        <td>Canada</td>\n",
       "        <td>1393.92</td>\n",
       "    </tr>\n",
       "</table>"
      ],
      "text/plain": [
       "[(3, 'Jane Peacock', '2017-04-01 00:00:00', 'Canada', 1731.5099999999998),\n",
       " (4, 'Margaret Park', '2017-05-03 00:00:00', 'Canada', 1584.0000000000002),\n",
       " (5, 'Steve Johnson', '2017-10-17 00:00:00', 'Canada', 1393.92)]"
      ]
     },
     "execution_count": 6,
     "metadata": {},
     "output_type": "execute_result"
    }
   ],
   "source": [
    "%%sql\n",
    "WITH \n",
    "    total_purchased AS \n",
    "    (\n",
    "    SELECT \n",
    "        c.*,\n",
    "        SUM(i.total) total\n",
    "        FROM customer c\n",
    "        INNER JOIN invoice i ON i.customer_id = c.customer_id\n",
    "        GROUP BY c.customer_id\n",
    "    ),\n",
    "    total_employees AS (\n",
    "        SELECT \n",
    "            COUNT(DISTINCT(e.employee_id))\n",
    "        FROM employee e\n",
    "    )\n",
    "SELECT\n",
    "    t.support_rep_id employee_id,\n",
    "    e.first_name || ' ' || e.last_name employee_name,\n",
    "    e.hire_date hired,\n",
    "    e.country,\n",
    "    SUM(t.total) total_purchases\n",
    "    FROM total_purchased t\n",
    "    LEFT JOIN employee e ON e.employee_id = t.support_rep_id\n",
    "    GROUP BY employee_id"
   ]
  },
  {
   "cell_type": "markdown",
   "metadata": {},
   "source": [
    "Each sales agent has more than \\$1000 in sales. While there is a difference of approximately 20% from Jane Peacock to Steve Johnson this correlates with the differences in time since they were hired at chinook, hence we can conclude that in these terms all employees perform on the same level on average "
   ]
  },
  {
   "cell_type": "markdown",
   "metadata": {},
   "source": [
    "## Value by country\n",
    "\n",
    "Our next step is to calculate data for each country to compare performance for each one and how our sales are distributed. In particular, we want to understand the following metrics:\n",
    "\n",
    "   - Total number of customers\n",
    "   - Total value of sales\n",
    "   - Average number of order per customer\n",
    "   - Average order value\n",
    "\n",
    "To keep our insights useful, any country that has only one customer will be shown through 'Other'"
   ]
  },
  {
   "cell_type": "code",
   "execution_count": 7,
   "metadata": {},
   "outputs": [
    {
     "name": "stdout",
     "output_type": "stream",
     "text": [
      " * sqlite:///chinook-unmodified.db\n",
      "Done.\n"
     ]
    },
    {
     "data": {
      "text/html": [
       "<table>\n",
       "    <tr>\n",
       "        <th>countries</th>\n",
       "        <th>total_customers</th>\n",
       "        <th>total_sales</th>\n",
       "        <th>Average_orders</th>\n",
       "        <th>Average_order_value</th>\n",
       "        <th>sort</th>\n",
       "    </tr>\n",
       "    <tr>\n",
       "        <td>USA</td>\n",
       "        <td>13</td>\n",
       "        <td>1040.49</td>\n",
       "        <td>7.9427</td>\n",
       "        <td>80.03769230769292</td>\n",
       "        <td>0</td>\n",
       "    </tr>\n",
       "    <tr>\n",
       "        <td>Canada</td>\n",
       "        <td>8</td>\n",
       "        <td>535.59</td>\n",
       "        <td>7.0472</td>\n",
       "        <td>66.94875000000043</td>\n",
       "        <td>0</td>\n",
       "    </tr>\n",
       "    <tr>\n",
       "        <td>Brazil</td>\n",
       "        <td>5</td>\n",
       "        <td>427.68</td>\n",
       "        <td>7.0111</td>\n",
       "        <td>85.53600000000048</td>\n",
       "        <td>0</td>\n",
       "    </tr>\n",
       "    <tr>\n",
       "        <td>France</td>\n",
       "        <td>5</td>\n",
       "        <td>389.07</td>\n",
       "        <td>7.7814</td>\n",
       "        <td>77.81400000000042</td>\n",
       "        <td>0</td>\n",
       "    </tr>\n",
       "    <tr>\n",
       "        <td>Germany</td>\n",
       "        <td>4</td>\n",
       "        <td>334.62</td>\n",
       "        <td>8.1615</td>\n",
       "        <td>83.6550000000004</td>\n",
       "        <td>0</td>\n",
       "    </tr>\n",
       "    <tr>\n",
       "        <td>Czech Republic</td>\n",
       "        <td>2</td>\n",
       "        <td>273.24</td>\n",
       "        <td>9.108</td>\n",
       "        <td>136.62000000000052</td>\n",
       "        <td>0</td>\n",
       "    </tr>\n",
       "    <tr>\n",
       "        <td>United Kingdom</td>\n",
       "        <td>3</td>\n",
       "        <td>245.52</td>\n",
       "        <td>8.7686</td>\n",
       "        <td>81.84000000000026</td>\n",
       "        <td>0</td>\n",
       "    </tr>\n",
       "    <tr>\n",
       "        <td>Portugal</td>\n",
       "        <td>2</td>\n",
       "        <td>185.13</td>\n",
       "        <td>6.3838</td>\n",
       "        <td>92.56500000000011</td>\n",
       "        <td>0</td>\n",
       "    </tr>\n",
       "    <tr>\n",
       "        <td>India</td>\n",
       "        <td>2</td>\n",
       "        <td>183.15</td>\n",
       "        <td>8.7214</td>\n",
       "        <td>91.5750000000001</td>\n",
       "        <td>0</td>\n",
       "    </tr>\n",
       "    <tr>\n",
       "        <td>Other</td>\n",
       "        <td>15</td>\n",
       "        <td>1094.94</td>\n",
       "        <td>7.4486</td>\n",
       "        <td>72.99600000000056</td>\n",
       "        <td>1</td>\n",
       "    </tr>\n",
       "</table>"
      ],
      "text/plain": [
       "[('USA', 13, 1040.49, 7.9427, 80.03769230769292, 0),\n",
       " ('Canada', 8, 535.59, 7.0472, 66.94875000000043, 0),\n",
       " ('Brazil', 5, 427.68, 7.0111, 85.53600000000048, 0),\n",
       " ('France', 5, 389.07, 7.7814, 77.81400000000042, 0),\n",
       " ('Germany', 4, 334.62, 8.1615, 83.6550000000004, 0),\n",
       " ('Czech Republic', 2, 273.24, 9.108, 136.62000000000052, 0),\n",
       " ('United Kingdom', 3, 245.52, 8.7686, 81.84000000000026, 0),\n",
       " ('Portugal', 2, 185.13, 6.3838, 92.56500000000011, 0),\n",
       " ('India', 2, 183.15, 8.7214, 91.5750000000001, 0),\n",
       " ('Other', 15, 1094.94, 7.4486, 72.99600000000056, 1)]"
      ]
     },
     "execution_count": 7,
     "metadata": {},
     "output_type": "execute_result"
    }
   ],
   "source": [
    "%%sql\n",
    "WITH cc AS\n",
    "    (\n",
    "     SELECT\n",
    "       CASE\n",
    "           WHEN (\n",
    "                 SELECT count(*)\n",
    "                 FROM customer\n",
    "                 where country = c.country\n",
    "                ) = 1 THEN \"Other\"\n",
    "           ELSE c.country\n",
    "       END AS countries,\n",
    "       c.*\n",
    "    FROM customer c\n",
    ")\n",
    "    SELECT\n",
    "    c.countries,\n",
    "    COUNT(DISTINCT(c.customer_id)) total_customers,\n",
    "    ROUND(SUM(il.unit_price), 4) total_sales,\n",
    "    ROUND(SUM(il.unit_price)/COUNT(DISTINCT(i.invoice_id)), 4) Average_orders,\n",
    "    CAST(SUM(il.unit_price) as Float)/COUNT(DISTINCT(c.customer_id)) Average_order_value,\n",
    "    CASE\n",
    "            WHEN countries = \"Other\" THEN 1\n",
    "            ELSE 0\n",
    "        END AS sort\n",
    "    FROM cc c\n",
    "    INNER JOIN invoice i ON c.customer_id = i.customer_id\n",
    "    INNER JOIN invoice_line il ON i.invoice_id = il.invoice_id\n",
    "    GROUP BY 1\n",
    "    ORDER BY sort ASC, total_sales DESC\n",
    ";    "
   ]
  },
  {
   "cell_type": "markdown",
   "metadata": {
    "collapsed": true
   },
   "source": [
    "Based on the table above, we see great potential for growth in the following markets: \n",
    "\n",
    "- Germany\n",
    "- United Kingdom\n",
    "- Czech Republic\n",
    "\n",
    "However, it should be taken into account that the amount of data is very low and that under those conditions there is a lot of risk associated with further investment into these countries"
   ]
  },
  {
   "cell_type": "markdown",
   "metadata": {},
   "source": [
    "## Whole albums purchases vs individual tracks purchases\n",
    "\n",
    "The Chinook store is setup in a way that allows customer to make purchases in one of the two ways:\n",
    "\n",
    "- Purchase a whole album\n",
    "- Purchase a collection of one or more individual tracks.\n",
    "\n",
    "Management are considering changing their purchasing strategy to save money. The strategy considered is to purchase only the most popular tracks from each album from record companies, instead of purchasing every track from an album.\n",
    "\n",
    "In order to understand whether or not this strategy could impact revenues significantly, first we need to understand what percentage of purchases are individual tracks vs the percentage of whole album purchases. This will tell us whether or not buying tracks could be a better approach to save costs."
   ]
  },
  {
   "cell_type": "code",
   "execution_count": 8,
   "metadata": {},
   "outputs": [
    {
     "name": "stdout",
     "output_type": "stream",
     "text": [
      " * sqlite:///chinook-unmodified.db\n",
      "Done.\n"
     ]
    },
    {
     "data": {
      "text/html": [
       "<table>\n",
       "    <tr>\n",
       "        <th>Classification</th>\n",
       "        <th>Total_Purchases</th>\n",
       "        <th>Percentaje_Total_Purchases</th>\n",
       "    </tr>\n",
       "    <tr>\n",
       "        <td>album</td>\n",
       "        <td>133</td>\n",
       "        <td>0.21661237785016288</td>\n",
       "    </tr>\n",
       "    <tr>\n",
       "        <td>track</td>\n",
       "        <td>481</td>\n",
       "        <td>0.7833876221498371</td>\n",
       "    </tr>\n",
       "</table>"
      ],
      "text/plain": [
       "[('album', 133, 0.21661237785016288), ('track', 481, 0.7833876221498371)]"
      ]
     },
     "execution_count": 8,
     "metadata": {},
     "output_type": "execute_result"
    }
   ],
   "source": [
    "%%sql\n",
    "WITH invoice_albums AS\n",
    "    (\n",
    "     SELECT\n",
    "        il.invoice_id invoice_id,\n",
    "        il.track_id,\n",
    "        t.album_id\n",
    "        FROM invoice_line il\n",
    "        INNER JOIN track t ON t.track_id = il.track_id\n",
    "        \n",
    "    ),\n",
    "    total_album AS \n",
    "    (\n",
    "    SELECT \n",
    "        invoice_id,\n",
    "        COUNT(DISTINCT(album_id)) albums_purchased,\n",
    "        COUNT(DISTINCT(track_id)) tracks_purchased\n",
    "        FROM invoice_albums\n",
    "        GROUP BY invoice_id\n",
    "    ),\n",
    "    purchases_classification AS(\n",
    "    SELECT\n",
    "        *,\n",
    "        CASE \n",
    "            WHEN (albums_purchased = 1 AND tracks_purchased != 1) THEN \"album\"\n",
    "        ELSE \"track\"\n",
    "        END AS Classification\n",
    "    FROM total_album)\n",
    "SELECT \n",
    "    Classification,\n",
    "    COUNT(Classification) Total_Purchases,\n",
    "    CAST(COUNT(Classification) as Float)/CAST((SELECT COUNT(DISTINCT(invoice_id)) FROM purchases_classification) as Float) Percentaje_Total_Purchases\n",
    "    FROM purchases_classification\n",
    "    GROUP BY Classification"
   ]
  },
  {
   "cell_type": "markdown",
   "metadata": {},
   "source": [
    "By analyzing current trends in sales, we'd found that 21.66% of sales come from selling complete albums instead of tracks. Given that album sales represent such a big part of revenue, we'd recommend the managers to not change the current strategy, as doing so could translate into losing a good percentage of sales"
   ]
  },
  {
   "cell_type": "markdown",
   "metadata": {},
   "source": [
    "# Is the range of tracks in the store reflective of their sales popularity?\n",
    "\n",
    "Since the idea of ditching whole album purchases could be too costly, management is considering saving costs instead by looking at the tracks they are currently selling and renovating the license of. Since purchasing and renovating licenses can be very expensive, it would save a lot of money if unpopular tracks' licenses were not renovated.\n",
    "\n",
    "To understand the potential impact of this measure, first we need to know whether the current catalog reflects the popularity of the songs."
   ]
  },
  {
   "cell_type": "code",
   "execution_count": 9,
   "metadata": {
    "scrolled": true
   },
   "outputs": [
    {
     "name": "stdout",
     "output_type": "stream",
     "text": [
      " * sqlite:///chinook-unmodified.db\n",
      "Done.\n"
     ]
    },
    {
     "data": {
      "text/html": [
       "<table>\n",
       "    <tr>\n",
       "        <th>total_tracks</th>\n",
       "        <th>sold_tracks</th>\n",
       "        <th>Percentage_sold</th>\n",
       "    </tr>\n",
       "    <tr>\n",
       "        <td>3503</td>\n",
       "        <td>1806</td>\n",
       "        <td>0.5155580930630888</td>\n",
       "    </tr>\n",
       "</table>"
      ],
      "text/plain": [
       "[(3503, 1806, 0.5155580930630888)]"
      ]
     },
     "execution_count": 9,
     "metadata": {},
     "output_type": "execute_result"
    }
   ],
   "source": [
    "%%sql\n",
    "WITH total_tracks AS \n",
    "    (\n",
    "        SELECT \n",
    "            COUNT(DISTINCT(t.track_id)) total_tracks,\n",
    "            COUNT(DISTINCT(il.track_id)) sold_tracks,\n",
    "            CAST(COUNT(DISTINCT(il.track_id)) as Float)/CAST(COUNT(DISTINCT(t.track_id)) as Float) Percentage_sold\n",
    "        FROM track t\n",
    "        LEFT JOIN invoice_line il ON t.track_id = il.track_id            \n",
    "    )\n",
    "SELECT * FROM total_tracks"
   ]
  },
  {
   "cell_type": "markdown",
   "metadata": {},
   "source": [
    "Only around ~52% of tracks available in the store have been sold at least once, which means that a significant proportion of the selection has never been purchased. Of those, it is imperative to understand how many are protected media with licenses the store has to pay for and renovate. It would also be good to understand the least popular genres, that way we will know which purchases to avoid in the future."
   ]
  },
  {
   "cell_type": "code",
   "execution_count": 10,
   "metadata": {},
   "outputs": [
    {
     "name": "stdout",
     "output_type": "stream",
     "text": [
      " * sqlite:///chinook-unmodified.db\n",
      "Done.\n"
     ]
    },
    {
     "data": {
      "text/html": [
       "<table>\n",
       "    <tr>\n",
       "        <th>protection</th>\n",
       "        <th>Number_of_tracks</th>\n",
       "        <th>Classification</th>\n",
       "    </tr>\n",
       "    <tr>\n",
       "        <td>AAC audio file</td>\n",
       "        <td>3</td>\n",
       "        <td>Never Sold</td>\n",
       "    </tr>\n",
       "    <tr>\n",
       "        <td>AAC audio file</td>\n",
       "        <td>8</td>\n",
       "        <td>Sold</td>\n",
       "    </tr>\n",
       "    <tr>\n",
       "        <td>MPEG audio file</td>\n",
       "        <td>1393</td>\n",
       "        <td>Never Sold</td>\n",
       "    </tr>\n",
       "    <tr>\n",
       "        <td>MPEG audio file</td>\n",
       "        <td>1641</td>\n",
       "        <td>Sold</td>\n",
       "    </tr>\n",
       "    <tr>\n",
       "        <td>Protected AAC audio file</td>\n",
       "        <td>86</td>\n",
       "        <td>Never Sold</td>\n",
       "    </tr>\n",
       "    <tr>\n",
       "        <td>Protected AAC audio file</td>\n",
       "        <td>151</td>\n",
       "        <td>Sold</td>\n",
       "    </tr>\n",
       "    <tr>\n",
       "        <td>Protected MPEG-4 video file</td>\n",
       "        <td>211</td>\n",
       "        <td>Never Sold</td>\n",
       "    </tr>\n",
       "    <tr>\n",
       "        <td>Protected MPEG-4 video file</td>\n",
       "        <td>3</td>\n",
       "        <td>Sold</td>\n",
       "    </tr>\n",
       "    <tr>\n",
       "        <td>Purchased AAC audio file</td>\n",
       "        <td>4</td>\n",
       "        <td>Never Sold</td>\n",
       "    </tr>\n",
       "    <tr>\n",
       "        <td>Purchased AAC audio file</td>\n",
       "        <td>3</td>\n",
       "        <td>Sold</td>\n",
       "    </tr>\n",
       "</table>"
      ],
      "text/plain": [
       "[('AAC audio file', 3, 'Never Sold'),\n",
       " ('AAC audio file', 8, 'Sold'),\n",
       " ('MPEG audio file', 1393, 'Never Sold'),\n",
       " ('MPEG audio file', 1641, 'Sold'),\n",
       " ('Protected AAC audio file', 86, 'Never Sold'),\n",
       " ('Protected AAC audio file', 151, 'Sold'),\n",
       " ('Protected MPEG-4 video file', 211, 'Never Sold'),\n",
       " ('Protected MPEG-4 video file', 3, 'Sold'),\n",
       " ('Purchased AAC audio file', 4, 'Never Sold'),\n",
       " ('Purchased AAC audio file', 3, 'Sold')]"
      ]
     },
     "execution_count": 10,
     "metadata": {},
     "output_type": "execute_result"
    }
   ],
   "source": [
    "%%sql\n",
    "WITH individual_purchases AS\n",
    "    (SELECT \n",
    "         t.track_id available_tracks_id,\n",
    "         m.name protection,\n",
    "         COUNT(il.track_id) tracks_sales\n",
    "     FROM track t\n",
    "        LEFT JOIN invoice_line il ON t.track_id = il.track_id\n",
    "        LEFT JOIN media_type m ON t.media_type_id = m.media_type_id\n",
    "        LEFT JOIN genre g ON g.genre_id = t.genre_id\n",
    "     GROUP BY 1\n",
    "    ), Popularity_classification AS \n",
    "    (SELECT \n",
    "        *,\n",
    "        CASE\n",
    "           WHEN tracks_sales = 0 THEN \"Never Sold\"\n",
    "        ELSE \"Sold\"\n",
    "        END AS Classification\n",
    "     FROM individual_purchases\n",
    "     GROUP BY available_tracks_id)\n",
    "SELECT \n",
    "    protection, \n",
    "    COUNT(protection) Number_of_tracks,\n",
    "    Classification\n",
    "    FROM Popularity_classification\n",
    "    GROUP BY protection, Classification"
   ]
  },
  {
   "cell_type": "markdown",
   "metadata": {},
   "source": [
    "Looking at the table above, there are three striking characteristics worth noticing: Protected files are less popular than unprotected ones when controlling for availability, second is that Protected MPEG-4 video files seem to be media type that fares the worse with customers, having only sold 3 out of 214 in the inventory. The third insight is that around 45% of MPEG audio files available in the store have never been purchased\n",
    "\n",
    "The next step in our analysis is to look at genres of the tracks that have never been purchased by our customers. This way we will be able to tell where we could save money by cancelling licenses that could be redirected to purchasing tracks that are more in tune with our customer base."
   ]
  },
  {
   "cell_type": "code",
   "execution_count": 11,
   "metadata": {},
   "outputs": [
    {
     "name": "stdout",
     "output_type": "stream",
     "text": [
      " * sqlite:///chinook-unmodified.db\n",
      "Done.\n"
     ]
    },
    {
     "data": {
      "text/html": [
       "<table>\n",
       "    <tr>\n",
       "        <th>genre</th>\n",
       "        <th>total_not_sold</th>\n",
       "        <th>total_tracks_by_genre</th>\n",
       "        <th>percentage_not_sold</th>\n",
       "    </tr>\n",
       "    <tr>\n",
       "        <td>World</td>\n",
       "        <td>28</td>\n",
       "        <td>28</td>\n",
       "        <td>100.0</td>\n",
       "    </tr>\n",
       "    <tr>\n",
       "        <td>Science Fiction</td>\n",
       "        <td>13</td>\n",
       "        <td>13</td>\n",
       "        <td>100.0</td>\n",
       "    </tr>\n",
       "    <tr>\n",
       "        <td>Sci Fi &amp; Fantasy</td>\n",
       "        <td>26</td>\n",
       "        <td>26</td>\n",
       "        <td>100.0</td>\n",
       "    </tr>\n",
       "    <tr>\n",
       "        <td>Rock And Roll</td>\n",
       "        <td>12</td>\n",
       "        <td>12</td>\n",
       "        <td>100.0</td>\n",
       "    </tr>\n",
       "    <tr>\n",
       "        <td>Opera</td>\n",
       "        <td>1</td>\n",
       "        <td>1</td>\n",
       "        <td>100.0</td>\n",
       "    </tr>\n",
       "    <tr>\n",
       "        <td>Comedy</td>\n",
       "        <td>17</td>\n",
       "        <td>17</td>\n",
       "        <td>100.0</td>\n",
       "    </tr>\n",
       "    <tr>\n",
       "        <td>Bossa Nova</td>\n",
       "        <td>15</td>\n",
       "        <td>15</td>\n",
       "        <td>100.0</td>\n",
       "    </tr>\n",
       "    <tr>\n",
       "        <td>Drama</td>\n",
       "        <td>63</td>\n",
       "        <td>64</td>\n",
       "        <td>98.4375</td>\n",
       "    </tr>\n",
       "    <tr>\n",
       "        <td>TV Shows</td>\n",
       "        <td>91</td>\n",
       "        <td>93</td>\n",
       "        <td>97.84946236559139</td>\n",
       "    </tr>\n",
       "    <tr>\n",
       "        <td>Soundtrack</td>\n",
       "        <td>38</td>\n",
       "        <td>43</td>\n",
       "        <td>88.37209302325581</td>\n",
       "    </tr>\n",
       "    <tr>\n",
       "        <td>Latin</td>\n",
       "        <td>460</td>\n",
       "        <td>579</td>\n",
       "        <td>79.44732297063904</td>\n",
       "    </tr>\n",
       "    <tr>\n",
       "        <td>Classical</td>\n",
       "        <td>58</td>\n",
       "        <td>74</td>\n",
       "        <td>78.37837837837837</td>\n",
       "    </tr>\n",
       "    <tr>\n",
       "        <td>Heavy Metal</td>\n",
       "        <td>21</td>\n",
       "        <td>28</td>\n",
       "        <td>75.0</td>\n",
       "    </tr>\n",
       "    <tr>\n",
       "        <td>Reggae</td>\n",
       "        <td>36</td>\n",
       "        <td>58</td>\n",
       "        <td>62.06896551724138</td>\n",
       "    </tr>\n",
       "    <tr>\n",
       "        <td>Jazz</td>\n",
       "        <td>69</td>\n",
       "        <td>130</td>\n",
       "        <td>53.07692307692308</td>\n",
       "    </tr>\n",
       "</table>"
      ],
      "text/plain": [
       "[('World', 28, 28, 100.0),\n",
       " ('Science Fiction', 13, 13, 100.0),\n",
       " ('Sci Fi & Fantasy', 26, 26, 100.0),\n",
       " ('Rock And Roll', 12, 12, 100.0),\n",
       " ('Opera', 1, 1, 100.0),\n",
       " ('Comedy', 17, 17, 100.0),\n",
       " ('Bossa Nova', 15, 15, 100.0),\n",
       " ('Drama', 63, 64, 98.4375),\n",
       " ('TV Shows', 91, 93, 97.84946236559139),\n",
       " ('Soundtrack', 38, 43, 88.37209302325581),\n",
       " ('Latin', 460, 579, 79.44732297063904),\n",
       " ('Classical', 58, 74, 78.37837837837837),\n",
       " ('Heavy Metal', 21, 28, 75.0),\n",
       " ('Reggae', 36, 58, 62.06896551724138),\n",
       " ('Jazz', 69, 130, 53.07692307692308)]"
      ]
     },
     "execution_count": 11,
     "metadata": {},
     "output_type": "execute_result"
    }
   ],
   "source": [
    "%%sql\n",
    "WITH individual_purchases AS\n",
    "    (SELECT \n",
    "         t.track_id available_tracks_id,\n",
    "         m.name protection,\n",
    "         COUNT(il.track_id) tracks_sales\n",
    "     FROM track t\n",
    "        LEFT JOIN invoice_line il ON t.track_id = il.track_id\n",
    "        LEFT JOIN media_type m ON t.media_type_id = m.media_type_id\n",
    "     GROUP BY 1\n",
    "    ), Popularity_classification AS \n",
    "    (SELECT \n",
    "        *,\n",
    "        CASE\n",
    "           WHEN tracks_sales = 0 THEN \"Never Sold\"\n",
    "        ELSE \"Sold\"\n",
    "        END AS Classification\n",
    "     FROM individual_purchases\n",
    "     GROUP BY available_tracks_id\n",
    "    ), genres_not_purchased AS \n",
    "    (SELECT\n",
    "        p.available_tracks_id,\n",
    "        p.protection,\n",
    "        p.tracks_sales,\n",
    "        p.Classification,\n",
    "        g.name genre\n",
    "     FROM Popularity_classification p\n",
    "     INNER JOIN track t ON t.track_id = p.available_tracks_id\n",
    "     LEFT JOIN genre g ON g.genre_id = t.genre_id\n",
    "    ), genres_total AS\n",
    "    (SELECT \n",
    "         genre,\n",
    "         COUNT(genre) total\n",
    "         FROM genres_not_purchased\n",
    "         GROUP BY 1)\n",
    "SELECT \n",
    "    g.genre,\n",
    "    COUNT(g.genre) total_not_sold,\n",
    "    gt.total total_tracks_by_genre,\n",
    "    (CAST(COUNT(g.genre) as Float)/CAST(gt.total as Float))*100 percentage_not_sold\n",
    "    FROM genres_not_purchased g\n",
    "    INNER JOIN genres_total gt ON g.genre = gt.genre\n",
    "    WHERE Classification = 'Never Sold'\n",
    "    GROUP BY 1\n",
    "    ORDER BY percentage_not_sold DESC\n",
    "    LIMIT 15;"
   ]
  },
  {
   "cell_type": "markdown",
   "metadata": {},
   "source": [
    "Looking at the table above, it is recommended that management consider removing all genres that haven't sold more than 90% of its tracks and freezing acquisitions for anything over 75%. That way the business could center its efforts into acquiring tracks for genres that do well with our customers and attract more by adding novelty to our selection.\n",
    "\n",
    "It should be taken into account, however, that currently Chinook has a very relatively small number of clients and that preferences could change or deepen with time, so this topic should be revisited at a later date"
   ]
  },
  {
   "cell_type": "code",
   "execution_count": 20,
   "metadata": {},
   "outputs": [
    {
     "name": "stdout",
     "output_type": "stream",
     "text": [
      " * sqlite:///chinook-unmodified.db\n",
      "Done.\n"
     ]
    },
    {
     "data": {
      "text/html": [
       "<table>\n",
       "    <tr>\n",
       "        <th>Total_number_of_clients</th>\n",
       "    </tr>\n",
       "    <tr>\n",
       "        <td>59</td>\n",
       "    </tr>\n",
       "</table>"
      ],
      "text/plain": [
       "[(59,)]"
      ]
     },
     "execution_count": 20,
     "metadata": {},
     "output_type": "execute_result"
    }
   ],
   "source": [
    "%%sql\n",
    "SELECT \n",
    "    COUNT(DISTINCT(customer_id)) Total_number_of_clients\n",
    "    FROM customer"
   ]
  },
  {
   "cell_type": "markdown",
   "metadata": {},
   "source": [
    "# Most popular artist\n",
    "\n",
    "In a scheme to attract more clients, management is considering offering a coupon to purchase tracks from certain artists based on referrals made by potential customers for a limited amount of time. The coupon should be attractive enough -both in monetary terms and on artistic terms- to generate sales, but not significative enough that it would damage revenue significatively in case it goes wrong.\n",
    "\n",
    "After some consideration, management decides that it will allocate a total of $5000 into the coupon scheme, leaving up to the analyst to decide how much the coupon should be worth and how many to  produce. It is also up to the analyst to decide on which artists to apply the discount, while the referral scheme is left to the marketing department.\n",
    "\n",
    "With that information the first step in the analysis should be to determine the most popular artists in our current customer base. To do so would be to extract the artists from the most sold tracks and display them accordingly. Since management didn't especify how many artists should be targeted with our plan, we decide to set the number to the most popular 25"
   ]
  },
  {
   "cell_type": "code",
   "execution_count": 12,
   "metadata": {},
   "outputs": [
    {
     "name": "stdout",
     "output_type": "stream",
     "text": [
      " * sqlite:///chinook-unmodified.db\n",
      "Done.\n"
     ]
    },
    {
     "data": {
      "text/html": [
       "<table>\n",
       "    <tr>\n",
       "        <th>name</th>\n",
       "        <th>tracks_sales</th>\n",
       "    </tr>\n",
       "    <tr>\n",
       "        <td>Pink Floyd</td>\n",
       "        <td>187</td>\n",
       "    </tr>\n",
       "    <tr>\n",
       "        <td>Guns N&#x27; Roses</td>\n",
       "        <td>96</td>\n",
       "    </tr>\n",
       "    <tr>\n",
       "        <td>Richard Marlow &amp; The Choir of Trinity College, Cambridge</td>\n",
       "        <td>93</td>\n",
       "    </tr>\n",
       "    <tr>\n",
       "        <td>Peter Tosh</td>\n",
       "        <td>90</td>\n",
       "    </tr>\n",
       "    <tr>\n",
       "        <td>Academy of St. Martin in the Fields &amp; Sir Neville Marriner</td>\n",
       "        <td>83</td>\n",
       "    </tr>\n",
       "    <tr>\n",
       "        <td>Charlie Brown Jr.</td>\n",
       "        <td>80</td>\n",
       "    </tr>\n",
       "    <tr>\n",
       "        <td>Alice In Chains</td>\n",
       "        <td>80</td>\n",
       "    </tr>\n",
       "    <tr>\n",
       "        <td>Academy of St. Martin in the Fields Chamber Ensemble &amp; Sir Neville Marriner</td>\n",
       "        <td>80</td>\n",
       "    </tr>\n",
       "    <tr>\n",
       "        <td>Corinne Bailey Rae</td>\n",
       "        <td>78</td>\n",
       "    </tr>\n",
       "    <tr>\n",
       "        <td>Sir Georg Solti &amp; Wiener Philharmoniker</td>\n",
       "        <td>76</td>\n",
       "    </tr>\n",
       "    <tr>\n",
       "        <td>Antônio Carlos Jobim</td>\n",
       "        <td>75</td>\n",
       "    </tr>\n",
       "    <tr>\n",
       "        <td>Falamansa</td>\n",
       "        <td>74</td>\n",
       "    </tr>\n",
       "    <tr>\n",
       "        <td>Academy of St. Martin in the Fields, Sir Neville Marriner &amp; Thurston Dart</td>\n",
       "        <td>74</td>\n",
       "    </tr>\n",
       "    <tr>\n",
       "        <td>AC/DC</td>\n",
       "        <td>74</td>\n",
       "    </tr>\n",
       "    <tr>\n",
       "        <td>Wilhelm Kempff</td>\n",
       "        <td>72</td>\n",
       "    </tr>\n",
       "    <tr>\n",
       "        <td>Gustavo &amp; Andres Veiga &amp; Salazar</td>\n",
       "        <td>68</td>\n",
       "    </tr>\n",
       "    <tr>\n",
       "        <td>Pedro Luís E A Parede</td>\n",
       "        <td>64</td>\n",
       "    </tr>\n",
       "    <tr>\n",
       "        <td>Vinícius De Moraes</td>\n",
       "        <td>60</td>\n",
       "    </tr>\n",
       "    <tr>\n",
       "        <td>Mundo Livre S/A</td>\n",
       "        <td>59</td>\n",
       "    </tr>\n",
       "    <tr>\n",
       "        <td>Apocalyptica</td>\n",
       "        <td>59</td>\n",
       "    </tr>\n",
       "    <tr>\n",
       "        <td>Incognito</td>\n",
       "        <td>58</td>\n",
       "    </tr>\n",
       "    <tr>\n",
       "        <td>Dread Zeppelin</td>\n",
       "        <td>53</td>\n",
       "    </tr>\n",
       "    <tr>\n",
       "        <td>Nicolaus Esterhazy Sinfonia</td>\n",
       "        <td>52</td>\n",
       "    </tr>\n",
       "    <tr>\n",
       "        <td>Dhani Harrison &amp; Jakob Dylan</td>\n",
       "        <td>52</td>\n",
       "    </tr>\n",
       "    <tr>\n",
       "        <td>Titãs</td>\n",
       "        <td>51</td>\n",
       "    </tr>\n",
       "</table>"
      ],
      "text/plain": [
       "[('Pink Floyd', 187),\n",
       " (\"Guns N' Roses\", 96),\n",
       " ('Richard Marlow & The Choir of Trinity College, Cambridge', 93),\n",
       " ('Peter Tosh', 90),\n",
       " ('Academy of St. Martin in the Fields & Sir Neville Marriner', 83),\n",
       " ('Charlie Brown Jr.', 80),\n",
       " ('Alice In Chains', 80),\n",
       " ('Academy of St. Martin in the Fields Chamber Ensemble & Sir Neville Marriner', 80),\n",
       " ('Corinne Bailey Rae', 78),\n",
       " ('Sir Georg Solti & Wiener Philharmoniker', 76),\n",
       " ('Antônio Carlos Jobim', 75),\n",
       " ('Falamansa', 74),\n",
       " ('Academy of St. Martin in the Fields, Sir Neville Marriner & Thurston Dart', 74),\n",
       " ('AC/DC', 74),\n",
       " ('Wilhelm Kempff', 72),\n",
       " ('Gustavo & Andres Veiga & Salazar', 68),\n",
       " ('Pedro Luís E A Parede', 64),\n",
       " ('Vinícius De Moraes', 60),\n",
       " ('Mundo Livre S/A', 59),\n",
       " ('Apocalyptica', 59),\n",
       " ('Incognito', 58),\n",
       " ('Dread Zeppelin', 53),\n",
       " ('Nicolaus Esterhazy Sinfonia', 52),\n",
       " ('Dhani Harrison & Jakob Dylan', 52),\n",
       " ('Titãs', 51)]"
      ]
     },
     "execution_count": 12,
     "metadata": {},
     "output_type": "execute_result"
    }
   ],
   "source": [
    "%%sql\n",
    "WITH individual_purchases AS\n",
    "    (SELECT \n",
    "         ar.name,\n",
    "         COUNT(il.track_id) tracks_sales\n",
    "     FROM track t\n",
    "        LEFT JOIN invoice_line il ON t.track_id = il.track_id\n",
    "        INNER JOIN album al ON t.album_id = al.album_id\n",
    "        INNER JOIN artist ar ON ar.artist_id = al.album_id\n",
    "     GROUP BY 1\n",
    "     ORDER BY 2 DESC\n",
    "     LIMIT 25\n",
    "    )\n",
    "SELECT * FROM individual_purchases"
   ]
  },
  {
   "cell_type": "markdown",
   "metadata": {},
   "source": [
    "With the list of artist defined, the next step is to define the coupon value and how many should be allocated to each artist to achieve the best results\n",
    "\n",
    "Since we know that all tracks in the store are sold at the same price ($0.99) and that the cuopon shouldn't be too big as to damage revenues too much but big enough to attract clients into the store, we settle for a coupon worth 0.19(~24\\%) that leaves the final price of the tracks at 0.80 and allows us to issue 6250 cuopons to our clients, 250 per artist."
   ]
  }
 ],
 "metadata": {
  "kernelspec": {
   "display_name": "Python 3",
   "language": "python",
   "name": "python3"
  },
  "language_info": {
   "codemirror_mode": {
    "name": "ipython",
    "version": 3
   },
   "file_extension": ".py",
   "mimetype": "text/x-python",
   "name": "python",
   "nbconvert_exporter": "python",
   "pygments_lexer": "ipython3",
   "version": "3.7.7"
  }
 },
 "nbformat": 4,
 "nbformat_minor": 2
}
